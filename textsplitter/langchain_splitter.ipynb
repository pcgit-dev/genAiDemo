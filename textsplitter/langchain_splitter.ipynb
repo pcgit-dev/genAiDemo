{
 "cells": [
  {
   "cell_type": "code",
   "execution_count": null,
   "metadata": {},
   "outputs": [
    {
     "name": "stdout",
     "output_type": "stream",
     "text": [
      "{'paths': {'/api/v1/sessions/{session_id}': {'get': {'responses': {'422': {'content': {'application/json': {'schema': {'$ref': '#/components/schemas/HTTPValidationError'}}}}}}}}}\n"
     ]
    }
   ],
   "source": [
    "from langchain_community.document_loaders import PyPDFLoader\n",
    "from langchain_text_splitters import RecursiveCharacterTextSplitter\n",
    "from langchain_text_splitters import RecursiveJsonSplitter\n",
    "import requests\n",
    "\n",
    "pdfLoader = PyPDFLoader(\"attention.pdf\")\n",
    "pdfDocument = pdfLoader.load()\n",
    "\n",
    "text_splitter = RecursiveCharacterTextSplitter(chunk_size=100,chunk_overlap=50)\n",
    "splittedDoc = text_splitter.split_documents(pdfDocument);\n",
    "\n",
    "json_data = requests.get(\"https://api.smith.langchain.com/openapi.json\").json()\n",
    "jsonChunks = RecursiveJsonSplitter(max_chunk_size=100)\n",
    "jsonChunksData = jsonChunks.split_json(json_data)\n",
    "\n",
    "print(jsonChunksData[10])"
   ]
  }
 ],
 "metadata": {
  "kernelspec": {
   "display_name": "Python 3",
   "language": "python",
   "name": "python3"
  },
  "language_info": {
   "codemirror_mode": {
    "name": "ipython",
    "version": 3
   },
   "file_extension": ".py",
   "mimetype": "text/x-python",
   "name": "python",
   "nbconvert_exporter": "python",
   "pygments_lexer": "ipython3",
   "version": "3.10.0"
  }
 },
 "nbformat": 4,
 "nbformat_minor": 2
}
