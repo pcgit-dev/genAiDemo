{
 "cells": [
  {
   "cell_type": "code",
   "execution_count": 9,
   "metadata": {},
   "outputs": [
    {
     "name": "stdout",
     "output_type": "stream",
     "text": [
      "[Document(metadata={'source': 'speech.txt'}, page_content='as belligerents in a high spirit of right and fairness because we act without animus, not in enmity'), Document(metadata={'source': 'speech.txt'}, page_content='as belligerents in a high spirit of right and fairness because we act without animus, not in enmity'), Document(metadata={'source': 'speech.txt'}, page_content='peoples, we shall, I feel confident, conduct our operations as belligerents without passion and'), Document(metadata={'source': 'speech.txt'}, page_content='peoples, we shall, I feel confident, conduct our operations as belligerents without passion and')]\n"
     ]
    }
   ],
   "source": [
    "import os\n",
    "from dotenv import load_dotenv\n",
    "import openai\n",
    "from langchain_openai import OpenAIEmbeddings\n",
    "from langchain_community.document_loaders import TextLoader\n",
    "from langchain_text_splitters import RecursiveCharacterTextSplitter\n",
    "from langchain_community.vectorstores import Chroma\n",
    "load_dotenv()\n",
    "#openai.api_key  = os.environ[\"OPEN_API_KEY\"]\n",
    "#response = openai.embeddings.create(\n",
    "#  input=\"Educative answers section is helpful\",\n",
    "#  model=\"text-embedding-ada-002\"\n",
    "#)\n",
    "textLoader = TextLoader(\"speech.txt\")\n",
    "textDocuments = textLoader.load()\n",
    "text_splitter = RecursiveCharacterTextSplitter(chunk_size=100,chunk_overlap=50)\n",
    "splittedDoc = text_splitter.split_documents(textDocuments);\n",
    "\n",
    "emedding = OpenAIEmbeddings(model=\"text-embedding-3-large\",api_key=os.environ[\"OPEN_API_KEY\"],dimensions=1024)\n",
    "query_result = emedding.embed_query(\"This is a tutorial on OpenAiEncoding\")\n",
    "#print(query_result);\n",
    "#print(len(query_result))\n",
    "\n",
    "#pip install -r requirements.txt\n",
    "#conda env list\n",
    "#conda enable D:\\Study Material\\Tutorials\\Microservices\\Azure\\repo\\langchain\\vernv\n",
    "\n",
    "db=Chroma.from_documents(splittedDoc,emedding)\n",
    "retrieve_result = db.similarity_search(\"It will be all the easier for us to conduct ourselves as belligerents in a high spirit of right and fairness because we act without animus, not in enmity toward a people or with the desire to bring any injury or disadvantage upon them, but only in armed opposition to an irresponsible government which has thrown aside all considerations of humanity and of right and is running amuck. We are, let me say again, the sincere friends of the German people, and shall desire nothing so much as the early reestablishment of intimate relations of mutual advantage between us—however hard it may be for them, for the time being, to believe that this is spoken from our hearts.\")\n",
    "print(retrieve_result)\n",
    "\n",
    "\n",
    "\n",
    "\n",
    "\n",
    "\n",
    "\n",
    "\n",
    "\n",
    "\n",
    "\n",
    "\n"
   ]
  }
 ],
 "metadata": {
  "kernelspec": {
   "display_name": "Python 3",
   "language": "python",
   "name": "python3"
  },
  "language_info": {
   "codemirror_mode": {
    "name": "ipython",
    "version": 3
   },
   "file_extension": ".py",
   "mimetype": "text/x-python",
   "name": "python",
   "nbconvert_exporter": "python",
   "pygments_lexer": "ipython3",
   "version": "3.10.0"
  }
 },
 "nbformat": 4,
 "nbformat_minor": 2
}
